{
 "cells": [
  {
   "cell_type": "markdown",
   "id": "2ee0b6ff-a7cd-4b2c-a0fd-431169e1ffb4",
   "metadata": {},
   "source": [
    "# Seatwork 1.1 Practice Set 1\n",
    "Submitted by Lyka Punzalan"
   ]
  },
  {
   "cell_type": "markdown",
   "id": "d373d6de-bfd4-4427-9022-038a83f11b28",
   "metadata": {},
   "source": [
    "##### 1. Type the expressions below, and explain what's happening in each case."
   ]
  },
  {
   "cell_type": "code",
   "execution_count": 30,
   "id": "dc3083b7-9dea-4272-9394-6588c2b57907",
   "metadata": {},
   "outputs": [
    {
     "data": {
      "text/plain": [
       "65536"
      ]
     },
     "execution_count": 30,
     "metadata": {},
     "output_type": "execute_result"
    }
   ],
   "source": [
    "2 ** 16 #raises to the power of 16 (exponent)"
   ]
  },
  {
   "cell_type": "code",
   "execution_count": 44,
   "id": "b6b84f93-f94a-4545-97c4-81bffabfc81e",
   "metadata": {},
   "outputs": [
    {
     "data": {
      "text/plain": [
       "(0.4, 0.4)"
      ]
     },
     "execution_count": 44,
     "metadata": {},
     "output_type": "execute_result"
    }
   ],
   "source": [
    "2 / 5, 2 / 5.0 \n",
    "#dividing with a float value will provide the same value"
   ]
  },
  {
   "cell_type": "code",
   "execution_count": 54,
   "id": "b88131ca-bc25-42e4-8943-b8ae3366255d",
   "metadata": {},
   "outputs": [],
   "source": [
    "#int(2 / 5), 2 / 5.0 \n",
    "#result: (0, 0.4)\n",
    "#int = makes the result an integer, rounding off the 0.4 to 0"
   ]
  },
  {
   "cell_type": "code",
   "execution_count": 28,
   "id": "09b32897-f892-4872-acd8-eb40b2e4a795",
   "metadata": {},
   "outputs": [
    {
     "data": {
      "text/plain": [
       "'spameggs'"
      ]
     },
     "execution_count": 28,
     "metadata": {},
     "output_type": "execute_result"
    }
   ],
   "source": [
    "\"spam\" + \"eggs\" #concatenates spam and eggs"
   ]
  },
  {
   "cell_type": "code",
   "execution_count": 26,
   "id": "18f953cd-5a45-4472-a4ca-3746efcabe4d",
   "metadata": {},
   "outputs": [],
   "source": [
    "S = \"ham\" #assignes a string value to variable S"
   ]
  },
  {
   "cell_type": "code",
   "execution_count": 36,
   "id": "ed8340ae-ff32-4789-afb4-4df1ef6e6653",
   "metadata": {},
   "outputs": [
    {
     "data": {
      "text/plain": [
       "'eggs ham'"
      ]
     },
     "execution_count": 36,
     "metadata": {},
     "output_type": "execute_result"
    }
   ],
   "source": [
    "\"eggs \" + S\n",
    "#concatenates the eggs with variable S"
   ]
  },
  {
   "cell_type": "code",
   "execution_count": 38,
   "id": "c3af4333-3e0c-44c1-88cf-3d14db57a78b",
   "metadata": {},
   "outputs": [
    {
     "data": {
      "text/plain": [
       "'hamhamhamhamham'"
      ]
     },
     "execution_count": 38,
     "metadata": {},
     "output_type": "execute_result"
    }
   ],
   "source": [
    "S*5\n",
    "#repeats the variable S, that contains a string, 5 times"
   ]
  },
  {
   "cell_type": "code",
   "execution_count": 84,
   "id": "69e4be3f-3373-4292-bb6b-e14702d09479",
   "metadata": {},
   "outputs": [
    {
     "data": {
      "text/plain": [
       "''"
      ]
     },
     "execution_count": 84,
     "metadata": {},
     "output_type": "execute_result"
    }
   ],
   "source": [
    "S[:0]\n",
    "#sclices before 1st letter in ham, returns nothing\n",
    "#if S[:] no limit in left and right, returns the whole string"
   ]
  },
  {
   "cell_type": "code",
   "execution_count": 42,
   "id": "86e187c1-fd6c-4a7d-9bf8-8d60289ead24",
   "metadata": {},
   "outputs": [
    {
     "data": {
      "text/plain": [
       "'green eggs and ham'"
      ]
     },
     "execution_count": 42,
     "metadata": {},
     "output_type": "execute_result"
    }
   ],
   "source": [
    "\"green %s and %s\" % (\"eggs\", S)\n",
    "#Uses old style formatting to insert \"eggs\" and S (\"ham\") into the placeholders (%s)"
   ]
  },
  {
   "cell_type": "code",
   "execution_count": 87,
   "id": "b2adaab5-576b-4f1d-8197-07af71669f4e",
   "metadata": {
    "editable": true,
    "slideshow": {
     "slide_type": ""
    },
    "tags": []
   },
   "outputs": [
    {
     "data": {
      "text/plain": [
       "'x'"
      ]
     },
     "execution_count": 87,
     "metadata": {},
     "output_type": "execute_result"
    }
   ],
   "source": [
    "('x',) [0]\n",
    "#returns the 1st element in tuple"
   ]
  },
  {
   "cell_type": "code",
   "execution_count": 89,
   "id": "4e719624-4647-4a1c-b6aa-9d9f2b604d5d",
   "metadata": {},
   "outputs": [
    {
     "data": {
      "text/plain": [
       "'y'"
      ]
     },
     "execution_count": 89,
     "metadata": {},
     "output_type": "execute_result"
    }
   ],
   "source": [
    "('x', 'y') [1]\n",
    "#returns the 2nd element in tuple"
   ]
  },
  {
   "cell_type": "code",
   "execution_count": 116,
   "id": "fd0fb08e-bdaa-4f51-951f-b1665b82737e",
   "metadata": {},
   "outputs": [
    {
     "data": {
      "text/plain": [
       "[1, 2, 3, 4, 5, 6]"
      ]
     },
     "execution_count": 116,
     "metadata": {},
     "output_type": "execute_result"
    }
   ],
   "source": [
    "L = [1,2,3] + [4,5,6] \n",
    "#creates an integer list then concatenates it \n",
    "L"
   ]
  },
  {
   "cell_type": "code",
   "execution_count": 124,
   "id": "43d36fdd-b864-4bb9-ae7f-6f52f61f767e",
   "metadata": {},
   "outputs": [
    {
     "data": {
      "text/plain": [
       "([1, 2, 3, 4, 5, 6], [1, 2, 3, 4, 5, 6], [], 5, [5, 6])"
      ]
     },
     "execution_count": 124,
     "metadata": {},
     "output_type": "execute_result"
    }
   ],
   "source": [
    "L, L[:], L[:0], L[-2], L[-2:] \n",
    "#slices the list\n",
    "#L returns all the elements\n",
    "#L[:] returns the copy of all list in L\n",
    "#L[:0] slices before the first elemet thus returning empty\n",
    "#L[-2] if negative, will start from the right/end, returns 5\n",
    "#L[-2:] counting starts from the end, returns 2nd to the end up until the last element"
   ]
  },
  {
   "cell_type": "code",
   "execution_count": 126,
   "id": "ebb98046-5a60-41e9-8361-a1223352f5fc",
   "metadata": {},
   "outputs": [
    {
     "data": {
      "text/plain": [
       "[3, 4]"
      ]
     },
     "execution_count": 126,
     "metadata": {},
     "output_type": "execute_result"
    }
   ],
   "source": [
    "([1,2,3] + [4,5,6]) [2:4] \n",
    "#access the 3rd element then prints 4"
   ]
  },
  {
   "cell_type": "code",
   "execution_count": 154,
   "id": "04e6c1e7-d801-49b0-b585-624d4dff09b7",
   "metadata": {},
   "outputs": [
    {
     "data": {
      "text/plain": [
       "[3, 4]"
      ]
     },
     "execution_count": 154,
     "metadata": {},
     "output_type": "execute_result"
    }
   ],
   "source": [
    "[L[2], L[3]]\n",
    "#returns 3rd and 4th element of the list\n",
    "#makes another list"
   ]
  },
  {
   "cell_type": "code",
   "execution_count": 146,
   "id": "1493c526-0619-4c2c-8a28-2c1b6d673a4d",
   "metadata": {},
   "outputs": [
    {
     "data": {
      "text/plain": [
       "[6, 5, 4, 3, 2, 1]"
      ]
     },
     "execution_count": 146,
     "metadata": {},
     "output_type": "execute_result"
    }
   ],
   "source": [
    "L.reverse();\n",
    "L\n",
    "#reverses the list"
   ]
  },
  {
   "cell_type": "code",
   "execution_count": 150,
   "id": "a170577d-2ed0-41e2-bb32-ef82a7fc8468",
   "metadata": {},
   "outputs": [
    {
     "data": {
      "text/plain": [
       "[1, 2, 3, 4, 5, 6]"
      ]
     },
     "execution_count": 150,
     "metadata": {},
     "output_type": "execute_result"
    }
   ],
   "source": [
    "L.sort();\n",
    "L\n",
    "#sorts in ascending"
   ]
  },
  {
   "cell_type": "code",
   "execution_count": 168,
   "id": "e29fad5b-062b-4012-b3a7-fd7e7edbadd6",
   "metadata": {},
   "outputs": [
    {
     "data": {
      "text/plain": [
       "3"
      ]
     },
     "execution_count": 168,
     "metadata": {},
     "output_type": "execute_result"
    }
   ],
   "source": [
    "L.index(4)\n",
    "#returns the position of 4 where it 1st occur"
   ]
  },
  {
   "cell_type": "code",
   "execution_count": 174,
   "id": "52a34eb8-4bb2-4d6f-90e7-8d2e53717cb9",
   "metadata": {},
   "outputs": [
    {
     "data": {
      "text/plain": [
       "{'x': 1, 'y': 2, 'z': 3}"
      ]
     },
     "execution_count": 174,
     "metadata": {},
     "output_type": "execute_result"
    }
   ],
   "source": [
    "D = {'x':1, 'y':2, 'z':3}\n",
    "D\n",
    "#creates a dictionary"
   ]
  },
  {
   "cell_type": "code",
   "execution_count": 182,
   "id": "a0f1b545-e3ee-446d-bce2-726dd28c49e1",
   "metadata": {},
   "outputs": [
    {
     "data": {
      "text/plain": [
       "{'x': 1, 'y': 2, 'z': 3, 'w': 0}"
      ]
     },
     "execution_count": 182,
     "metadata": {},
     "output_type": "execute_result"
    }
   ],
   "source": [
    "D['w'] = 0\n",
    "D\n",
    "#adds another key value, places in the end"
   ]
  },
  {
   "cell_type": "code",
   "execution_count": 186,
   "id": "d372dd69-4faa-4355-b98b-f1077de15d68",
   "metadata": {},
   "outputs": [
    {
     "data": {
      "text/plain": [
       "1"
      ]
     },
     "execution_count": 186,
     "metadata": {},
     "output_type": "execute_result"
    }
   ],
   "source": [
    "D['x'] + D['w']\n",
    "#adds values of x and w"
   ]
  },
  {
   "cell_type": "code",
   "execution_count": 192,
   "id": "cfacf669-a663-4fc2-80c0-e8abb89b06ed",
   "metadata": {},
   "outputs": [
    {
     "data": {
      "text/plain": [
       "{'x': 1, 'y': 2, 'z': 3, 'w': 0, (1, 2, 3): 4}"
      ]
     },
     "execution_count": 192,
     "metadata": {},
     "output_type": "execute_result"
    }
   ],
   "source": [
    "D[(1,2,3)] = 4\n",
    "D\n",
    "#adds a tuple as a key which has a value of 4"
   ]
  },
  {
   "cell_type": "code",
   "execution_count": 196,
   "id": "18425597-e003-48be-a9f0-600511175ed0",
   "metadata": {},
   "outputs": [
    {
     "data": {
      "text/plain": [
       "dict_keys(['x', 'y', 'z', 'w', (1, 2, 3)])"
      ]
     },
     "execution_count": 196,
     "metadata": {},
     "output_type": "execute_result"
    }
   ],
   "source": [
    "D.keys()\n",
    "#returns all the keys"
   ]
  },
  {
   "cell_type": "code",
   "execution_count": 200,
   "id": "984984f1-9f2c-4f13-bd39-d39803daf3dc",
   "metadata": {},
   "outputs": [
    {
     "data": {
      "text/plain": [
       "dict_values([1, 2, 3, 0, 4])"
      ]
     },
     "execution_count": 200,
     "metadata": {},
     "output_type": "execute_result"
    }
   ],
   "source": [
    "D.values()\n",
    "#returns all the values in the dictionary"
   ]
  },
  {
   "cell_type": "code",
   "execution_count": 204,
   "id": "2cc357df-f9b4-4395-990f-cb7cf1f4b1ba",
   "metadata": {},
   "outputs": [
    {
     "ename": "AttributeError",
     "evalue": "'dict' object has no attribute 'has_key'",
     "output_type": "error",
     "traceback": [
      "\u001b[1;31m---------------------------------------------------------------------------\u001b[0m",
      "\u001b[1;31mAttributeError\u001b[0m                            Traceback (most recent call last)",
      "Cell \u001b[1;32mIn[204], line 1\u001b[0m\n\u001b[1;32m----> 1\u001b[0m D\u001b[38;5;241m.\u001b[39mhas_key((\u001b[38;5;241m1\u001b[39m,\u001b[38;5;241m2\u001b[39m,\u001b[38;5;241m3\u001b[39m)) [[]]\n",
      "\u001b[1;31mAttributeError\u001b[0m: 'dict' object has no attribute 'has_key'"
     ]
    }
   ],
   "source": [
    "D.has_key((1,2,3)) [[]]\n",
    "#This fxn is not supperted anymore\n",
    "#we now us in"
   ]
  },
  {
   "cell_type": "code",
   "execution_count": 208,
   "id": "7a7bf5b5-4a2c-47d1-bba0-6eb7353c34e3",
   "metadata": {},
   "outputs": [
    {
     "data": {
      "text/plain": [
       "True"
      ]
     },
     "execution_count": 208,
     "metadata": {},
     "output_type": "execute_result"
    }
   ],
   "source": [
    "(1, 2, 3) in D\n",
    "#checks if the tuple is in D\n",
    "#returns true or false\n",
    "#the tuple is in D, thus returning true"
   ]
  },
  {
   "cell_type": "markdown",
   "id": "43ac3fcb-e2cc-44f6-8b9a-d89a29fa022e",
   "metadata": {},
   "source": [
    "##### 2. Define a list named L that contains four strings or numbers. Experiment with the following boundary cases."
   ]
  },
  {
   "cell_type": "code",
   "execution_count": 282,
   "id": "60b19948-3aed-47e3-a919-f4d34008c70d",
   "metadata": {},
   "outputs": [],
   "source": [
    "L = ['apple', 42, 'banana', 3.14, 'snoop']\n",
    "# L = [0,   1,  2,  3,  4]\n",
    "# L = [-5, -4, -3, -2, -1]"
   ]
  },
  {
   "cell_type": "code",
   "execution_count": 266,
   "id": "ecc8f389-484f-4194-997b-371879ac76b6",
   "metadata": {},
   "outputs": [
    {
     "data": {
      "text/plain": [
       "'apple'"
      ]
     },
     "execution_count": 266,
     "metadata": {},
     "output_type": "execute_result"
    }
   ],
   "source": [
    "L[0]\n",
    "#index out of bounds\n",
    "#list has only 0, 1, 2, 3"
   ]
  },
  {
   "cell_type": "code",
   "execution_count": 268,
   "id": "d7d9b3d0-efcd-4ff4-9a3b-aa096fc046b5",
   "metadata": {},
   "outputs": [
    {
     "data": {
      "text/plain": [
       "[3.14, 'snoop']"
      ]
     },
     "execution_count": 268,
     "metadata": {},
     "output_type": "execute_result"
    }
   ],
   "source": [
    "L[-2:10]"
   ]
  },
  {
   "cell_type": "code",
   "execution_count": 278,
   "id": "ea09be68-a059-4cb3-85bb-75ba0a195984",
   "metadata": {},
   "outputs": [
    {
     "data": {
      "text/plain": [
       "['banana']"
      ]
     },
     "execution_count": 278,
     "metadata": {},
     "output_type": "execute_result"
    }
   ],
   "source": [
    "L[-3:3]"
   ]
  },
  {
   "cell_type": "code",
   "execution_count": 290,
   "id": "b0138402-4010-4360-8ce1-64d0b382f164",
   "metadata": {},
   "outputs": [
    {
     "data": {
      "text/plain": [
       "['apple', 'banana']"
      ]
     },
     "execution_count": 290,
     "metadata": {},
     "output_type": "execute_result"
    }
   ],
   "source": [
    "L[0:4:2]\n",
    "# [Starting position : ending exclusive : interval]"
   ]
  },
  {
   "cell_type": "code",
   "execution_count": 294,
   "id": "9fecef0b-f0ac-4e0b-b4f0-a5090f7e4ec3",
   "metadata": {},
   "outputs": [
    {
     "name": "stderr",
     "output_type": "stream",
     "text": [
      "[NbConvertApp] Converting notebook SW1_1.ipynb to pdf\n",
      "[NbConvertApp] Writing 40714 bytes to notebook.tex\n",
      "[NbConvertApp] Building PDF\n",
      "[NbConvertApp] Running xelatex 3 times: ['xelatex', 'notebook.tex', '-quiet']\n",
      "[NbConvertApp] Running bibtex 1 time: ['bibtex', 'notebook']\n",
      "[NbConvertApp] WARNING | b had problems, most likely because there were no citations\n",
      "[NbConvertApp] PDF successfully created\n",
      "[NbConvertApp] Writing 42727 bytes to SW1_1.pdf\n"
     ]
    }
   ],
   "source": [
    "!jupyter nbconvert --to pdf SW1_1.ipynb"
   ]
  },
  {
   "cell_type": "code",
   "execution_count": null,
   "id": "36eeeb69-a57a-46d2-b9b7-20a35d2c4fa8",
   "metadata": {},
   "outputs": [],
   "source": []
  }
 ],
 "metadata": {
  "kernelspec": {
   "display_name": "Python [conda env:base] *",
   "language": "python",
   "name": "conda-base-py"
  },
  "language_info": {
   "codemirror_mode": {
    "name": "ipython",
    "version": 3
   },
   "file_extension": ".py",
   "mimetype": "text/x-python",
   "name": "python",
   "nbconvert_exporter": "python",
   "pygments_lexer": "ipython3",
   "version": "3.12.7"
  }
 },
 "nbformat": 4,
 "nbformat_minor": 5
}
