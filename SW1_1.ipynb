{
 "cells": [
  {
   "cell_type": "markdown",
   "id": "2ee0b6ff-a7cd-4b2c-a0fd-431169e1ffb4",
   "metadata": {},
   "source": [
    "# Seatwork 1.1 Practice Set 1\n",
    "Submitted by Lyka Punzalan"
   ]
  },
  {
   "cell_type": "markdown",
   "id": "d373d6de-bfd4-4427-9022-038a83f11b28",
   "metadata": {},
   "source": [
    "##### 1. Type the expressions below, and explain what's happening in each case."
   ]
  },
  {
   "cell_type": "code",
   "execution_count": 30,
   "id": "dc3083b7-9dea-4272-9394-6588c2b57907",
   "metadata": {},
   "outputs": [
    {
     "data": {
      "text/plain": [
       "65536"
      ]
     },
     "execution_count": 30,
     "metadata": {},
     "output_type": "execute_result"
    }
   ],
   "source": [
    "2 ** 16 #raises to the power of 16 (exponent)"
   ]
  },
  {
   "cell_type": "code",
   "execution_count": 44,
   "id": "b6b84f93-f94a-4545-97c4-81bffabfc81e",
   "metadata": {},
   "outputs": [
    {
     "data": {
      "text/plain": [
       "(0.4, 0.4)"
      ]
     },
     "execution_count": 44,
     "metadata": {},
     "output_type": "execute_result"
    }
   ],
   "source": [
    "2 / 5, 2 / 5.0 \n",
    "#dividing with a float value will provide the same value"
   ]
  },
  {
   "cell_type": "code",
   "execution_count": 54,
   "id": "b88131ca-bc25-42e4-8943-b8ae3366255d",
   "metadata": {},
   "outputs": [],
   "source": [
    "#int(2 / 5), 2 / 5.0 \n",
    "#result: (0, 0.4)\n",
    "#int = makes the result an integer, rounding off the 0.4 to 0"
   ]
  },
  {
   "cell_type": "code",
   "execution_count": 28,
   "id": "09b32897-f892-4872-acd8-eb40b2e4a795",
   "metadata": {},
   "outputs": [
    {
     "data": {
      "text/plain": [
       "'spameggs'"
      ]
     },
     "execution_count": 28,
     "metadata": {},
     "output_type": "execute_result"
    }
   ],
   "source": [
    "\"spam\" + \"eggs\" #concatenates spam and eggs"
   ]
  },
  {
   "cell_type": "code",
   "execution_count": 26,
   "id": "18f953cd-5a45-4472-a4ca-3746efcabe4d",
   "metadata": {},
   "outputs": [],
   "source": [
    "S = \"ham\" #assignes a string value to variable S"
   ]
  },
  {
   "cell_type": "code",
   "execution_count": 36,
   "id": "ed8340ae-ff32-4789-afb4-4df1ef6e6653",
   "metadata": {},
   "outputs": [
    {
     "data": {
      "text/plain": [
       "'eggs ham'"
      ]
     },
     "execution_count": 36,
     "metadata": {},
     "output_type": "execute_result"
    }
   ],
   "source": [
    "\"eggs \" + S\n",
    "#concatenates the eggs with variable S"
   ]
  },
  {
   "cell_type": "code",
   "execution_count": 38,
   "id": "c3af4333-3e0c-44c1-88cf-3d14db57a78b",
   "metadata": {},
   "outputs": [
    {
     "data": {
      "text/plain": [
       "'hamhamhamhamham'"
      ]
     },
     "execution_count": 38,
     "metadata": {},
     "output_type": "execute_result"
    }
   ],
   "source": [
    "S*5\n",
    "#repeats the variable S, that contains a string, 5 times"
   ]
  },
  {
   "cell_type": "code",
   "execution_count": 84,
   "id": "69e4be3f-3373-4292-bb6b-e14702d09479",
   "metadata": {},
   "outputs": [
    {
     "data": {
      "text/plain": [
       "''"
      ]
     },
     "execution_count": 84,
     "metadata": {},
     "output_type": "execute_result"
    }
   ],
   "source": [
    "S[:0]\n",
    "#sclices before 1st letter in ham, returns nothing\n",
    "#if S[:] no limit in left and right, returns the whole string"
   ]
  },
  {
   "cell_type": "code",
   "execution_count": 42,
   "id": "86e187c1-fd6c-4a7d-9bf8-8d60289ead24",
   "metadata": {},
   "outputs": [
    {
     "data": {
      "text/plain": [
       "'green eggs and ham'"
      ]
     },
     "execution_count": 42,
     "metadata": {},
     "output_type": "execute_result"
    }
   ],
   "source": [
    "\"green %s and %s\" % (\"eggs\", S)\n",
    "#Uses old style formatting to insert \"eggs\" and S (\"ham\") into the placeholders (%s)"
   ]
  },
  {
   "cell_type": "code",
   "execution_count": 87,
   "id": "b2adaab5-576b-4f1d-8197-07af71669f4e",
   "metadata": {
    "editable": true,
    "slideshow": {
     "slide_type": ""
    },
    "tags": []
   },
   "outputs": [
    {
     "data": {
      "text/plain": [
       "'x'"
      ]
     },
     "execution_count": 87,
     "metadata": {},
     "output_type": "execute_result"
    }
   ],
   "source": [
    "('x',) [0]\n",
    "#returns the 1st element in tuple"
   ]
  },
  {
   "cell_type": "code",
   "execution_count": 89,
   "id": "4e719624-4647-4a1c-b6aa-9d9f2b604d5d",
   "metadata": {},
   "outputs": [
    {
     "data": {
      "text/plain": [
       "'y'"
      ]
     },
     "execution_count": 89,
     "metadata": {},
     "output_type": "execute_result"
    }
   ],
   "source": [
    "('x', 'y') [1]\n",
    "#returns the 2nd element in tuple"
   ]
  },
  {
   "cell_type": "code",
   "execution_count": 116,
   "id": "fd0fb08e-bdaa-4f51-951f-b1665b82737e",
   "metadata": {},
   "outputs": [
    {
     "data": {
      "text/plain": [
       "[1, 2, 3, 4, 5, 6]"
      ]
     },
     "execution_count": 116,
     "metadata": {},
     "output_type": "execute_result"
    }
   ],
   "source": [
    "L = [1,2,3] + [4,5,6] \n",
    "#creates an integer list then concatenates it \n",
    "L"
   ]
  },
  {
   "cell_type": "code",
   "execution_count": 124,
   "id": "43d36fdd-b864-4bb9-ae7f-6f52f61f767e",
   "metadata": {},
   "outputs": [
    {
     "data": {
      "text/plain": [
       "([1, 2, 3, 4, 5, 6], [1, 2, 3, 4, 5, 6], [], 5, [5, 6])"
      ]
     },
     "execution_count": 124,
     "metadata": {},
     "output_type": "execute_result"
    }
   ],
   "source": [
    "L, L[:], L[:0], L[-2], L[-2:] \n",
    "#slices the list\n",
    "#L returns all the elements\n",
    "#L[:] returns the copy of all list in L\n",
    "#L[:0] slices before the first elemet thus returning empty\n",
    "#L[-2] if negative, will start from the right/end, returns 5\n",
    "#L[-2:] counting starts from the end, returns 2nd to the end up until the last element"
   ]
  },
  {
   "cell_type": "code",
   "execution_count": 126,
   "id": "ebb98046-5a60-41e9-8361-a1223352f5fc",
   "metadata": {},
   "outputs": [
    {
     "data": {
      "text/plain": [
       "[3, 4]"
      ]
     },
     "execution_count": 126,
     "metadata": {},
     "output_type": "execute_result"
    }
   ],
   "source": [
    "([1,2,3] + [4,5,6]) [2:4] \n",
    "#access the 3rd element then prints 4"
   ]
  },
  {
   "cell_type": "code",
   "execution_count": 154,
   "id": "04e6c1e7-d801-49b0-b585-624d4dff09b7",
   "metadata": {},
   "outputs": [
    {
     "data": {
      "text/plain": [
       "[3, 4]"
      ]
     },
     "execution_count": 154,
     "metadata": {},
     "output_type": "execute_result"
    }
   ],
   "source": [
    "[L[2], L[3]]\n",
    "#returns 3rd and 4th element of the list\n",
    "#makes another list"
   ]
  },
  {
   "cell_type": "code",
   "execution_count": 146,
   "id": "1493c526-0619-4c2c-8a28-2c1b6d673a4d",
   "metadata": {},
   "outputs": [
    {
     "data": {
      "text/plain": [
       "[6, 5, 4, 3, 2, 1]"
      ]
     },
     "execution_count": 146,
     "metadata": {},
     "output_type": "execute_result"
    }
   ],
   "source": [
    "L.reverse();\n",
    "L\n",
    "#reverses the list"
   ]
  },
  {
   "cell_type": "code",
   "execution_count": 150,
   "id": "a170577d-2ed0-41e2-bb32-ef82a7fc8468",
   "metadata": {},
   "outputs": [
    {
     "data": {
      "text/plain": [
       "[1, 2, 3, 4, 5, 6]"
      ]
     },
     "execution_count": 150,
     "metadata": {},
     "output_type": "execute_result"
    }
   ],
   "source": [
    "L.sort();\n",
    "L\n",
    "#sorts in ascending"
   ]
  },
  {
   "cell_type": "code",
   "execution_count": 168,
   "id": "e29fad5b-062b-4012-b3a7-fd7e7edbadd6",
   "metadata": {},
   "outputs": [
    {
     "data": {
      "text/plain": [
       "3"
      ]
     },
     "execution_count": 168,
     "metadata": {},
     "output_type": "execute_result"
    }
   ],
   "source": [
    "L.index(4)\n",
    "#returns the position of 4 where it 1st occur"
   ]
  },
  {
   "cell_type": "code",
   "execution_count": 174,
   "id": "52a34eb8-4bb2-4d6f-90e7-8d2e53717cb9",
   "metadata": {},
   "outputs": [
    {
     "data": {
      "text/plain": [
       "{'x': 1, 'y': 2, 'z': 3}"
      ]
     },
     "execution_count": 174,
     "metadata": {},
     "output_type": "execute_result"
    }
   ],
   "source": [
    "D = {'x':1, 'y':2, 'z':3}\n",
    "D\n",
    "#creates a dictionary"
   ]
  },
  {
   "cell_type": "code",
   "execution_count": 182,
   "id": "a0f1b545-e3ee-446d-bce2-726dd28c49e1",
   "metadata": {},
   "outputs": [
    {
     "data": {
      "text/plain": [
       "{'x': 1, 'y': 2, 'z': 3, 'w': 0}"
      ]
     },
     "execution_count": 182,
     "metadata": {},
     "output_type": "execute_result"
    }
   ],
   "source": [
    "D['w'] = 0\n",
    "D\n",
    "#adds another key value, places in the end"
   ]
  },
  {
   "cell_type": "code",
   "execution_count": 186,
   "id": "d372dd69-4faa-4355-b98b-f1077de15d68",
   "metadata": {},
   "outputs": [
    {
     "data": {
      "text/plain": [
       "1"
      ]
     },
     "execution_count": 186,
     "metadata": {},
     "output_type": "execute_result"
    }
   ],
   "source": [
    "D['x'] + D['w']\n",
    "#adds values of x and w"
   ]
  },
  {
   "cell_type": "code",
   "execution_count": 192,
   "id": "cfacf669-a663-4fc2-80c0-e8abb89b06ed",
   "metadata": {},
   "outputs": [
    {
     "data": {
      "text/plain": [
       "{'x': 1, 'y': 2, 'z': 3, 'w': 0, (1, 2, 3): 4}"
      ]
     },
     "execution_count": 192,
     "metadata": {},
     "output_type": "execute_result"
    }
   ],
   "source": [
    "D[(1,2,3)] = 4\n",
    "D\n",
    "#adds a tuple as a key which has a value of 4"
   ]
  },
  {
   "cell_type": "code",
   "execution_count": 196,
   "id": "18425597-e003-48be-a9f0-600511175ed0",
   "metadata": {},
   "outputs": [
    {
     "data": {
      "text/plain": [
       "dict_keys(['x', 'y', 'z', 'w', (1, 2, 3)])"
      ]
     },
     "execution_count": 196,
     "metadata": {},
     "output_type": "execute_result"
    }
   ],
   "source": [
    "D.keys()\n",
    "#returns all the keys"
   ]
  },
  {
   "cell_type": "code",
   "execution_count": 200,
   "id": "984984f1-9f2c-4f13-bd39-d39803daf3dc",
   "metadata": {},
   "outputs": [
    {
     "data": {
      "text/plain": [
       "dict_values([1, 2, 3, 0, 4])"
      ]
     },
     "execution_count": 200,
     "metadata": {},
     "output_type": "execute_result"
    }
   ],
   "source": [
    "D.values()\n",
    "#returns all the values in the dictionary"
   ]
  },
  {
   "cell_type": "code",
   "execution_count": 204,
   "id": "2cc357df-f9b4-4395-990f-cb7cf1f4b1ba",
   "metadata": {},
   "outputs": [
    {
     "ename": "AttributeError",
     "evalue": "'dict' object has no attribute 'has_key'",
     "output_type": "error",
     "traceback": [
      "\u001b[1;31m---------------------------------------------------------------------------\u001b[0m",
      "\u001b[1;31mAttributeError\u001b[0m                            Traceback (most recent call last)",
      "Cell \u001b[1;32mIn[204], line 1\u001b[0m\n\u001b[1;32m----> 1\u001b[0m D\u001b[38;5;241m.\u001b[39mhas_key((\u001b[38;5;241m1\u001b[39m,\u001b[38;5;241m2\u001b[39m,\u001b[38;5;241m3\u001b[39m)) [[]]\n",
      "\u001b[1;31mAttributeError\u001b[0m: 'dict' object has no attribute 'has_key'"
     ]
    }
   ],
   "source": [
    "D.has_key((1,2,3)) [[]]\n",
    "#This fxn is not supperted anymore\n",
    "#we now us in"
   ]
  },
  {
   "cell_type": "code",
   "execution_count": 208,
   "id": "7a7bf5b5-4a2c-47d1-bba0-6eb7353c34e3",
   "metadata": {},
   "outputs": [
    {
     "data": {
      "text/plain": [
       "True"
      ]
     },
     "execution_count": 208,
     "metadata": {},
     "output_type": "execute_result"
    }
   ],
   "source": [
    "(1, 2, 3) in D\n",
    "#checks if the tuple is in D\n",
    "#returns true or false\n",
    "#the tuple is in D, thus returning true"
   ]
  },
  {
   "cell_type": "markdown",
   "id": "43ac3fcb-e2cc-44f6-8b9a-d89a29fa022e",
   "metadata": {},
   "source": [
    "##### 2. Define a list named L that contains four strings or numbers. Experiment with the following boundary cases."
   ]
  },
  {
   "cell_type": "code",
   "execution_count": 7,
   "id": "60b19948-3aed-47e3-a919-f4d34008c70d",
   "metadata": {},
   "outputs": [],
   "source": [
    "L = ['apple', 42, 'banana', 3.14, 'snoop']\n",
    "# L = [0,   1,  2,  3,  4]\n",
    "# L = [-5, -4, -3, -2, -1]"
   ]
  },
  {
   "cell_type": "code",
   "execution_count": 9,
   "id": "ecc8f389-484f-4194-997b-371879ac76b6",
   "metadata": {},
   "outputs": [
    {
     "ename": "IndexError",
     "evalue": "list index out of range",
     "output_type": "error",
     "traceback": [
      "\u001b[1;31m---------------------------------------------------------------------------\u001b[0m",
      "\u001b[1;31mIndexError\u001b[0m                                Traceback (most recent call last)",
      "Cell \u001b[1;32mIn[9], line 1\u001b[0m\n\u001b[1;32m----> 1\u001b[0m L[\u001b[38;5;241m5\u001b[39m]\n",
      "\u001b[1;31mIndexError\u001b[0m: list index out of range"
     ]
    }
   ],
   "source": [
    "L[5]\n",
    "#index out of bounds\n",
    "#list has only 0, 1, 2, 3"
   ]
  },
  {
   "cell_type": "code",
   "execution_count": 11,
   "id": "d7d9b3d0-efcd-4ff4-9a3b-aa096fc046b5",
   "metadata": {},
   "outputs": [
    {
     "data": {
      "text/plain": [
       "[3.14, 'snoop']"
      ]
     },
     "execution_count": 11,
     "metadata": {},
     "output_type": "execute_result"
    }
   ],
   "source": [
    "L[-2:10]"
   ]
  },
  {
   "cell_type": "code",
   "execution_count": 13,
   "id": "ea09be68-a059-4cb3-85bb-75ba0a195984",
   "metadata": {},
   "outputs": [
    {
     "data": {
      "text/plain": [
       "['banana']"
      ]
     },
     "execution_count": 13,
     "metadata": {},
     "output_type": "execute_result"
    }
   ],
   "source": [
    "L[-3:3]"
   ]
  },
  {
   "cell_type": "code",
   "execution_count": 15,
   "id": "b0138402-4010-4360-8ce1-64d0b382f164",
   "metadata": {},
   "outputs": [
    {
     "data": {
      "text/plain": [
       "['apple', 'banana']"
      ]
     },
     "execution_count": 15,
     "metadata": {},
     "output_type": "execute_result"
    }
   ],
   "source": [
    "L[0:4:2]\n",
    "# [Starting position : ending exclusive : interval]"
   ]
  },
  {
   "cell_type": "markdown",
   "id": "5ee2b187-0a1c-44c0-af25-ac62008882f0",
   "metadata": {},
   "source": [
    "##### 3. Define another list L, perform the following and use comments to explain"
   ]
  },
  {
   "cell_type": "code",
   "execution_count": 1,
   "id": "e0465a0f-fe30-4f85-b80d-dc2c2ee1b5c9",
   "metadata": {},
   "outputs": [],
   "source": [
    "L = [1, 'abcde', 2.0, 'xyza', 3, 'aeiou', 4.1, 'lmn']"
   ]
  },
  {
   "cell_type": "code",
   "execution_count": 2,
   "id": "6c3676a8-209a-4cbb-aafa-b7528391a1f1",
   "metadata": {},
   "outputs": [
    {
     "data": {
      "text/plain": [
       "[1, 'abcde', 2.0, 'xyza', 3, 'aeiou', 4.1, 'lmn', [5, 'op', 6.2]]"
      ]
     },
     "execution_count": 2,
     "metadata": {},
     "output_type": "execute_result"
    }
   ],
   "source": [
    "L.append([5, 'op', 6.2])\n",
    "#adds the list as an element\n",
    "L"
   ]
  },
  {
   "cell_type": "code",
   "execution_count": 5,
   "id": "6cc44ebc-8005-4aa3-ae7a-e74f907c59c0",
   "metadata": {},
   "outputs": [
    {
     "data": {
      "text/plain": [
       "['xyza', 3, 'aeiou', 4.1, 'lmn', [5, 'op', 6.2]]"
      ]
     },
     "execution_count": 5,
     "metadata": {},
     "output_type": "execute_result"
    }
   ],
   "source": [
    "L[0:3] = []\n",
    "L\n",
    "#removes elements on the range/index 0 to 2"
   ]
  },
  {
   "cell_type": "code",
   "execution_count": 7,
   "id": "6947ce12-8476-43f7-8a20-86aa3096f3da",
   "metadata": {},
   "outputs": [
    {
     "data": {
      "text/plain": [
       "['xyza', 3, 'aeiou', [5, 'op', 6.2]]"
      ]
     },
     "execution_count": 7,
     "metadata": {},
     "output_type": "execute_result"
    }
   ],
   "source": [
    "del L[-3:-1]\n",
    "L\n",
    "#deletes elements from the range/index-3 to -2"
   ]
  },
  {
   "cell_type": "code",
   "execution_count": 9,
   "id": "be7468ef-3882-4ec5-894f-666bc2db0e53",
   "metadata": {},
   "outputs": [
    {
     "ename": "TypeError",
     "evalue": "must assign iterable to extended slice",
     "output_type": "error",
     "traceback": [
      "\u001b[1;31m---------------------------------------------------------------------------\u001b[0m",
      "\u001b[1;31mTypeError\u001b[0m                                 Traceback (most recent call last)",
      "Cell \u001b[1;32mIn[9], line 1\u001b[0m\n\u001b[1;32m----> 1\u001b[0m L[\u001b[38;5;241m0\u001b[39m:\u001b[38;5;241m4\u001b[39m] \u001b[38;5;241m=\u001b[39m \u001b[38;5;241m3.14\u001b[39m\n",
      "\u001b[1;31mTypeError\u001b[0m: must assign iterable to extended slice"
     ]
    }
   ],
   "source": [
    "L[0:4] = 3.14"
   ]
  },
  {
   "cell_type": "markdown",
   "id": "27094223-e7af-4378-a03d-795f2b2cf3ed",
   "metadata": {},
   "source": [
    "##### 4. Create a dictionary named D with three entries, for keys a, b, and c."
   ]
  },
  {
   "cell_type": "code",
   "execution_count": 16,
   "id": "93686674-11bd-4a3e-8140-fd1f5f2555bc",
   "metadata": {},
   "outputs": [
    {
     "data": {
      "text/plain": [
       "{'a': 1, 'b': 2.1, 'c': 3}"
      ]
     },
     "execution_count": 16,
     "metadata": {},
     "output_type": "execute_result"
    }
   ],
   "source": [
    "D = {'a': 1, 'b': 2.1, 'c':3}\n",
    "D"
   ]
  },
  {
   "cell_type": "code",
   "execution_count": 18,
   "id": "ca216b5f-acb4-4a45-8dfe-b06105c7a3aa",
   "metadata": {},
   "outputs": [
    {
     "ename": "KeyError",
     "evalue": "'d'",
     "output_type": "error",
     "traceback": [
      "\u001b[1;31m---------------------------------------------------------------------------\u001b[0m",
      "\u001b[1;31mKeyError\u001b[0m                                  Traceback (most recent call last)",
      "Cell \u001b[1;32mIn[18], line 1\u001b[0m\n\u001b[1;32m----> 1\u001b[0m D[\u001b[38;5;124m'\u001b[39m\u001b[38;5;124md\u001b[39m\u001b[38;5;124m'\u001b[39m]\n",
      "\u001b[1;31mKeyError\u001b[0m: 'd'"
     ]
    }
   ],
   "source": [
    "D['d']\n",
    "#raises error, since key 'd' does not exist"
   ]
  },
  {
   "cell_type": "code",
   "execution_count": 23,
   "id": "a297e64a-98b7-4623-a8f8-7cbbc76a25a7",
   "metadata": {},
   "outputs": [
    {
     "data": {
      "text/plain": [
       "{'a': 1, 'b': 2.1, 'c': 3, 'd': 4}"
      ]
     },
     "execution_count": 23,
     "metadata": {},
     "output_type": "execute_result"
    }
   ],
   "source": [
    "D['d'] = 4\n",
    "D\n",
    "#adds another key"
   ]
  },
  {
   "cell_type": "code",
   "execution_count": 21,
   "id": "581743aa-1398-47fc-90e2-4a76ed08d49b",
   "metadata": {},
   "outputs": [
    {
     "ename": "IndexError",
     "evalue": "list assignment index out of range",
     "output_type": "error",
     "traceback": [
      "\u001b[1;31m---------------------------------------------------------------------------\u001b[0m",
      "\u001b[1;31mIndexError\u001b[0m                                Traceback (most recent call last)",
      "Cell \u001b[1;32mIn[21], line 1\u001b[0m\n\u001b[1;32m----> 1\u001b[0m L[\u001b[38;5;241m4\u001b[39m] \u001b[38;5;241m=\u001b[39m \u001b[38;5;241m3.14\u001b[39m\n",
      "\u001b[1;31mIndexError\u001b[0m: list assignment index out of range"
     ]
    }
   ],
   "source": [
    "L[4] = 3.14\n",
    "#earlier list only icludes index 0-3\n",
    "#Fails if index is out of bounds"
   ]
  },
  {
   "cell_type": "markdown",
   "id": "4765a1e5-bc50-4b18-b081-7f497b7286dc",
   "metadata": {},
   "source": [
    "##### 5. Run tests to answer the following"
   ]
  },
  {
   "cell_type": "markdown",
   "id": "f4d0026e-339c-413a-96b3-7b63d3291de6",
   "metadata": {},
   "source": [
    "(+) operator on different/mixed types"
   ]
  },
  {
   "cell_type": "code",
   "execution_count": 33,
   "id": "ffaded82-45f7-44fe-930a-74512ee1ce14",
   "metadata": {},
   "outputs": [
    {
     "data": {
      "text/plain": [
       "[1, 'abcde', 2.0, 'xyza', 3, 'aeiou', 4.1, 'lmn']"
      ]
     },
     "execution_count": 33,
     "metadata": {},
     "output_type": "execute_result"
    }
   ],
   "source": [
    "L = [1, 'abcde', 2.0] + ['xyza', 3, 'aeiou', 4.1, 'lmn']\n",
    "L\n",
    "#adds the elements of the lists in one list"
   ]
  },
  {
   "cell_type": "code",
   "execution_count": 39,
   "id": "e238f6fb-ec69-4595-b842-ec3c657a0cca",
   "metadata": {},
   "outputs": [
    {
     "ename": "TypeError",
     "evalue": "unsupported operand type(s) for +: 'float' and 'str'",
     "output_type": "error",
     "traceback": [
      "\u001b[1;31m---------------------------------------------------------------------------\u001b[0m",
      "\u001b[1;31mTypeError\u001b[0m                                 Traceback (most recent call last)",
      "Cell \u001b[1;32mIn[39], line 1\u001b[0m\n\u001b[1;32m----> 1\u001b[0m (\u001b[38;5;241m3.14\u001b[39m \u001b[38;5;241m+\u001b[39m \u001b[38;5;124m'\u001b[39m\u001b[38;5;124mhi\u001b[39m\u001b[38;5;124m'\u001b[39m)\n",
      "\u001b[1;31mTypeError\u001b[0m: unsupported operand type(s) for +: 'float' and 'str'"
     ]
    }
   ],
   "source": [
    "(3.14 + 'hi')\n",
    "#returns error, does not allow in float and str"
   ]
  },
  {
   "cell_type": "code",
   "execution_count": 45,
   "id": "e99e5d10-b35c-4d73-bb40-ea47baa9fefc",
   "metadata": {},
   "outputs": [
    {
     "ename": "TypeError",
     "evalue": "can only concatenate list (not \"str\") to list",
     "output_type": "error",
     "traceback": [
      "\u001b[1;31m---------------------------------------------------------------------------\u001b[0m",
      "\u001b[1;31mTypeError\u001b[0m                                 Traceback (most recent call last)",
      "Cell \u001b[1;32mIn[45], line 1\u001b[0m\n\u001b[1;32m----> 1\u001b[0m ([\u001b[38;5;241m1\u001b[39m, \u001b[38;5;241m2\u001b[39m] \u001b[38;5;241m+\u001b[39m \u001b[38;5;124m'\u001b[39m\u001b[38;5;124mhi\u001b[39m\u001b[38;5;124m'\u001b[39m)\n",
      "\u001b[1;31mTypeError\u001b[0m: can only concatenate list (not \"str\") to list"
     ]
    }
   ],
   "source": [
    "([1, 2] + 'hi')\n",
    "#cannot add str to a list"
   ]
  },
  {
   "cell_type": "code",
   "execution_count": 48,
   "id": "0e9af391-a8ad-40ec-9249-50fa9eb59249",
   "metadata": {},
   "outputs": [
    {
     "data": {
      "text/plain": [
       "[1, 2, 'hi']"
      ]
     },
     "execution_count": 48,
     "metadata": {},
     "output_type": "execute_result"
    }
   ],
   "source": [
    "([1, 2] + ['hi'])\n",
    "#allows adding of list with int and a list with str"
   ]
  },
  {
   "cell_type": "markdown",
   "id": "66bb3bf8-046f-4994-ba43-1fa6b129ce8a",
   "metadata": {},
   "source": [
    "(+) on dictionary"
   ]
  },
  {
   "cell_type": "code",
   "execution_count": 55,
   "id": "b51fbccc-fa08-4d08-9c08-a82a50f37fde",
   "metadata": {},
   "outputs": [
    {
     "ename": "TypeError",
     "evalue": "can only concatenate list (not \"dict\") to list",
     "output_type": "error",
     "traceback": [
      "\u001b[1;31m---------------------------------------------------------------------------\u001b[0m",
      "\u001b[1;31mTypeError\u001b[0m                                 Traceback (most recent call last)",
      "Cell \u001b[1;32mIn[55], line 3\u001b[0m\n\u001b[0;32m      1\u001b[0m L1 \u001b[38;5;241m=\u001b[39m [\u001b[38;5;241m3\u001b[39m, \u001b[38;5;241m4\u001b[39m]\n\u001b[0;32m      2\u001b[0m D1 \u001b[38;5;241m=\u001b[39m {\u001b[38;5;124m'\u001b[39m\u001b[38;5;124ma\u001b[39m\u001b[38;5;124m'\u001b[39m: \u001b[38;5;241m1\u001b[39m, \u001b[38;5;124m'\u001b[39m\u001b[38;5;124mb\u001b[39m\u001b[38;5;124m'\u001b[39m: \u001b[38;5;241m2\u001b[39m}\n\u001b[1;32m----> 3\u001b[0m L1 \u001b[38;5;241m+\u001b[39m D1\n",
      "\u001b[1;31mTypeError\u001b[0m: can only concatenate list (not \"dict\") to list"
     ]
    }
   ],
   "source": [
    "L1 = [3, 4]\n",
    "D1 = {'a': 1, 'b': 2}\n",
    "L1 + D1\n",
    "#does not also allows if one is a dictionary"
   ]
  },
  {
   "cell_type": "markdown",
   "id": "8ef618bf-36c4-45c3-aa72-e29cacd41ade",
   "metadata": {},
   "source": [
    "List.append() on both lists and strings"
   ]
  },
  {
   "cell_type": "code",
   "execution_count": 59,
   "id": "d303b4c6-841e-4744-a1aa-f3bd3ec177dc",
   "metadata": {},
   "outputs": [],
   "source": [
    "L = [1, 'abcde', 2.0, 'xyza', 3, 'aeiou', 4.1, 'lmn']"
   ]
  },
  {
   "cell_type": "code",
   "execution_count": 62,
   "id": "0df5aef2-388d-4899-9220-963a0fcd91cb",
   "metadata": {},
   "outputs": [],
   "source": [
    "L.append([5.2, 6.3, 7.4])\n",
    "#works on list"
   ]
  },
  {
   "cell_type": "code",
   "execution_count": 64,
   "id": "94b36c26-132d-44d2-adf8-59da77eb229b",
   "metadata": {},
   "outputs": [
    {
     "data": {
      "text/plain": [
       "[1, 'abcde', 2.0, 'xyza', 3, 'aeiou', 4.1, 'lmn', [5.2, 6.3, 7.4]]"
      ]
     },
     "execution_count": 64,
     "metadata": {},
     "output_type": "execute_result"
    }
   ],
   "source": [
    "L"
   ]
  },
  {
   "cell_type": "code",
   "execution_count": 67,
   "id": "018fa321-cd78-40f6-8927-8ed7a6ccc4f6",
   "metadata": {},
   "outputs": [
    {
     "ename": "TypeError",
     "evalue": "list.append() takes exactly one argument (2 given)",
     "output_type": "error",
     "traceback": [
      "\u001b[1;31m---------------------------------------------------------------------------\u001b[0m",
      "\u001b[1;31mTypeError\u001b[0m                                 Traceback (most recent call last)",
      "Cell \u001b[1;32mIn[67], line 1\u001b[0m\n\u001b[1;32m----> 1\u001b[0m L\u001b[38;5;241m.\u001b[39mappend(\u001b[38;5;124m'\u001b[39m\u001b[38;5;124mop\u001b[39m\u001b[38;5;124m'\u001b[39m, \u001b[38;5;124m'\u001b[39m\u001b[38;5;124mjrs\u001b[39m\u001b[38;5;124m'\u001b[39m)\n",
      "\u001b[1;31mTypeError\u001b[0m: list.append() takes exactly one argument (2 given)"
     ]
    }
   ],
   "source": [
    "L.append('op', 'jrs')"
   ]
  },
  {
   "cell_type": "code",
   "execution_count": 70,
   "id": "baae4595-1240-4875-89dd-34c6bd8d62af",
   "metadata": {},
   "outputs": [
    {
     "data": {
      "text/plain": [
       "[1, 'abcde', 2.0, 'xyza', 3, 'aeiou', 4.1, 'lmn', [5.2, 6.3, 7.4], 'op']"
      ]
     },
     "execution_count": 70,
     "metadata": {},
     "output_type": "execute_result"
    }
   ],
   "source": [
    "L.append('op')\n",
    "L\n",
    "#also works on strings"
   ]
  },
  {
   "cell_type": "markdown",
   "id": "1b7e5db2-00e0-4848-aba7-42ac442d41e7",
   "metadata": {},
   "source": [
    "Concatenating (+) two lists or strings"
   ]
  },
  {
   "cell_type": "code",
   "execution_count": 78,
   "id": "83d581b8-a36b-4255-aa3f-667e1ef369d2",
   "metadata": {},
   "outputs": [
    {
     "name": "stdout",
     "output_type": "stream",
     "text": [
      "hello\n"
     ]
    }
   ],
   "source": [
    "str1 = 'hel'\n",
    "str2 = 'lo'\n",
    "print(str1 + str2)\n",
    "#works on both str"
   ]
  },
  {
   "cell_type": "code",
   "execution_count": 81,
   "id": "801b47e7-a3db-4bd3-891e-77479c6b2767",
   "metadata": {},
   "outputs": [
    {
     "data": {
      "text/plain": [
       "[1, 2, 3, 'a', 'b', 'c']"
      ]
     },
     "execution_count": 81,
     "metadata": {},
     "output_type": "execute_result"
    }
   ],
   "source": [
    "L1 = [1, 2, 3]\n",
    "L2 = ['a', 'b', 'c']\n",
    "L1 + L2\n",
    "#works on both L"
   ]
  },
  {
   "cell_type": "code",
   "execution_count": 84,
   "id": "6c418577-82f5-47aa-a058-2264e81a5621",
   "metadata": {},
   "outputs": [
    {
     "ename": "TypeError",
     "evalue": "can only concatenate list (not \"str\") to list",
     "output_type": "error",
     "traceback": [
      "\u001b[1;31m---------------------------------------------------------------------------\u001b[0m",
      "\u001b[1;31mTypeError\u001b[0m                                 Traceback (most recent call last)",
      "Cell \u001b[1;32mIn[84], line 3\u001b[0m\n\u001b[0;32m      1\u001b[0m L1 \u001b[38;5;241m=\u001b[39m [\u001b[38;5;241m1\u001b[39m, \u001b[38;5;241m2\u001b[39m, \u001b[38;5;241m3\u001b[39m]\n\u001b[0;32m      2\u001b[0m str1 \u001b[38;5;241m=\u001b[39m \u001b[38;5;124m'\u001b[39m\u001b[38;5;124mhel\u001b[39m\u001b[38;5;124m'\u001b[39m\n\u001b[1;32m----> 3\u001b[0m L1 \u001b[38;5;241m+\u001b[39m str1\n",
      "\u001b[1;31mTypeError\u001b[0m: can only concatenate list (not \"str\") to list"
     ]
    }
   ],
   "source": [
    "L1 = [1, 2, 3]\n",
    "str1 = 'hel'\n",
    "L1 + str1\n",
    "#does not work if one is L and one is str"
   ]
  },
  {
   "cell_type": "code",
   "execution_count": 87,
   "id": "4fff4b85-7741-4539-8745-cdee2f872533",
   "metadata": {},
   "outputs": [
    {
     "data": {
      "text/plain": [
       "'o'"
      ]
     },
     "execution_count": 87,
     "metadata": {},
     "output_type": "execute_result"
    }
   ],
   "source": [
    "S = 'ouch'\n",
    "S[0] [0] [0] [0]\n",
    "#returns the first character"
   ]
  },
  {
   "cell_type": "code",
   "execution_count": 91,
   "id": "9375f3d8-47a7-4351-87e0-52a7c9c2fcbd",
   "metadata": {},
   "outputs": [
    {
     "ename": "TypeError",
     "evalue": "'str' object does not support item assignment",
     "output_type": "error",
     "traceback": [
      "\u001b[1;31m---------------------------------------------------------------------------\u001b[0m",
      "\u001b[1;31mTypeError\u001b[0m                                 Traceback (most recent call last)",
      "Cell \u001b[1;32mIn[91], line 2\u001b[0m\n\u001b[0;32m      1\u001b[0m S \u001b[38;5;241m=\u001b[39m \u001b[38;5;124m'\u001b[39m\u001b[38;5;124mspam\u001b[39m\u001b[38;5;124m'\u001b[39m\n\u001b[1;32m----> 2\u001b[0m S[\u001b[38;5;241m1\u001b[39m] \u001b[38;5;241m=\u001b[39m \u001b[38;5;124m'\u001b[39m\u001b[38;5;124ml\u001b[39m\u001b[38;5;124m'\u001b[39m\n",
      "\u001b[1;31mTypeError\u001b[0m: 'str' object does not support item assignment"
     ]
    }
   ],
   "source": [
    "S = 'spam'\n",
    "S[1] = 'l'"
   ]
  },
  {
   "cell_type": "code",
   "execution_count": 94,
   "id": "1af49940-58a2-4f1a-a90f-a8f3e200cc67",
   "metadata": {},
   "outputs": [
    {
     "data": {
      "text/plain": [
       "'slam'"
      ]
     },
     "execution_count": 94,
     "metadata": {},
     "output_type": "execute_result"
    }
   ],
   "source": [
    "S = 'spam'\n",
    "S = S[0] + 'l' + S[2:4]\n",
    "#it works??\n",
    "S"
   ]
  }
 ],
 "metadata": {
  "kernelspec": {
   "display_name": "Python [conda env:base] *",
   "language": "python",
   "name": "conda-base-py"
  },
  "language_info": {
   "codemirror_mode": {
    "name": "ipython",
    "version": 3
   },
   "file_extension": ".py",
   "mimetype": "text/x-python",
   "name": "python",
   "nbconvert_exporter": "python",
   "pygments_lexer": "ipython3",
   "version": "3.12.7"
  }
 },
 "nbformat": 4,
 "nbformat_minor": 5
}
